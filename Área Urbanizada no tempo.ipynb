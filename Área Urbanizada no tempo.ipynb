{
  "cells": [
    {
      "cell_type": "markdown",
      "metadata": {
        "id": "view-in-github",
        "colab_type": "text"
      },
      "source": [
        "<a href=\"https://colab.research.google.com/github/alvaro-morais-png/kube-news/blob/main/%C3%81rea%20Urbanizada%20no%20tempo.ipynb\" target=\"_parent\"><img src=\"https://colab.research.google.com/assets/colab-badge.svg\" alt=\"Open In Colab\"/></a>"
      ]
    },
    {
      "cell_type": "code",
      "execution_count": null,
      "id": "447d2b14-19e8-450a-a3e1-07595ba768cb",
      "metadata": {
        "id": "447d2b14-19e8-450a-a3e1-07595ba768cb"
      },
      "outputs": [],
      "source": [
        "#from sklearn.model_selection import train_test_split\n",
        "#from sklearn.neighbors import KNeighborsClassifier\n",
        "from sklearn import metrics\n",
        "from prophet import Prophet\n",
        "from prophet.plot import add_changepoints_to_plot\n",
        "from prophet.plot import plot_cross_validation_metric\n",
        "from prophet.diagnostics import performance_metrics\n",
        "from prophet.diagnostics import cross_validation\n",
        "import matplotlib.pyplot as plt\n",
        "import numpy as np\n",
        "import pandas as pd\n",
        "import seaborn as sns"
      ]
    },
    {
      "cell_type": "code",
      "execution_count": null,
      "id": "1c144556-dd1f-44d5-9667-bc3429c1ab66",
      "metadata": {
        "id": "1c144556-dd1f-44d5-9667-bc3429c1ab66"
      },
      "outputs": [],
      "source": [
        "bioma = pd.read_csv('/MapBiomas_Maceio.csv')\n",
        "dado = bioma.loc[[0, 12, 19]]#separei os índices 0, 12 e 30"
      ]
    },
    {
      "cell_type": "code",
      "execution_count": null,
      "id": "8d893db2-c4b5-40f7-8539-767726ed186f",
      "metadata": {
        "colab": {
          "base_uri": "https://localhost:8080/",
          "height": 206
        },
        "id": "8d893db2-c4b5-40f7-8539-767726ed186f",
        "outputId": "bdf004ea-92d5-4da5-fc0e-f1054099633a"
      },
      "outputs": [
        {
          "output_type": "execute_result",
          "data": {
            "text/plain": [
              "       Ano      Floresta  Agropecuária   Urbanizada\n",
              "1985  1985  11491.162528   31992.41109  4460.436313\n",
              "1986  1986  11291.215075  29908.863169  6954.594059\n",
              "1987  1987  10573.094645  30363.498841  7240.749766\n",
              "1988  1988   9715.802066  31021.862959  7441.180951\n",
              "1989  1989   9447.668263  31028.702677  7691.893993"
            ],
            "text/html": [
              "\n",
              "  <div id=\"df-ff4610e5-aad9-427a-8934-41372619eef5\" class=\"colab-df-container\">\n",
              "    <div>\n",
              "<style scoped>\n",
              "    .dataframe tbody tr th:only-of-type {\n",
              "        vertical-align: middle;\n",
              "    }\n",
              "\n",
              "    .dataframe tbody tr th {\n",
              "        vertical-align: top;\n",
              "    }\n",
              "\n",
              "    .dataframe thead th {\n",
              "        text-align: right;\n",
              "    }\n",
              "</style>\n",
              "<table border=\"1\" class=\"dataframe\">\n",
              "  <thead>\n",
              "    <tr style=\"text-align: right;\">\n",
              "      <th></th>\n",
              "      <th>Ano</th>\n",
              "      <th>Floresta</th>\n",
              "      <th>Agropecuária</th>\n",
              "      <th>Urbanizada</th>\n",
              "    </tr>\n",
              "  </thead>\n",
              "  <tbody>\n",
              "    <tr>\n",
              "      <th>1985</th>\n",
              "      <td>1985</td>\n",
              "      <td>11491.162528</td>\n",
              "      <td>31992.41109</td>\n",
              "      <td>4460.436313</td>\n",
              "    </tr>\n",
              "    <tr>\n",
              "      <th>1986</th>\n",
              "      <td>1986</td>\n",
              "      <td>11291.215075</td>\n",
              "      <td>29908.863169</td>\n",
              "      <td>6954.594059</td>\n",
              "    </tr>\n",
              "    <tr>\n",
              "      <th>1987</th>\n",
              "      <td>1987</td>\n",
              "      <td>10573.094645</td>\n",
              "      <td>30363.498841</td>\n",
              "      <td>7240.749766</td>\n",
              "    </tr>\n",
              "    <tr>\n",
              "      <th>1988</th>\n",
              "      <td>1988</td>\n",
              "      <td>9715.802066</td>\n",
              "      <td>31021.862959</td>\n",
              "      <td>7441.180951</td>\n",
              "    </tr>\n",
              "    <tr>\n",
              "      <th>1989</th>\n",
              "      <td>1989</td>\n",
              "      <td>9447.668263</td>\n",
              "      <td>31028.702677</td>\n",
              "      <td>7691.893993</td>\n",
              "    </tr>\n",
              "  </tbody>\n",
              "</table>\n",
              "</div>\n",
              "    <div class=\"colab-df-buttons\">\n",
              "\n",
              "  <div class=\"colab-df-container\">\n",
              "    <button class=\"colab-df-convert\" onclick=\"convertToInteractive('df-ff4610e5-aad9-427a-8934-41372619eef5')\"\n",
              "            title=\"Convert this dataframe to an interactive table.\"\n",
              "            style=\"display:none;\">\n",
              "\n",
              "  <svg xmlns=\"http://www.w3.org/2000/svg\" height=\"24px\" viewBox=\"0 -960 960 960\">\n",
              "    <path d=\"M120-120v-720h720v720H120Zm60-500h600v-160H180v160Zm220 220h160v-160H400v160Zm0 220h160v-160H400v160ZM180-400h160v-160H180v160Zm440 0h160v-160H620v160ZM180-180h160v-160H180v160Zm440 0h160v-160H620v160Z\"/>\n",
              "  </svg>\n",
              "    </button>\n",
              "\n",
              "  <style>\n",
              "    .colab-df-container {\n",
              "      display:flex;\n",
              "      gap: 12px;\n",
              "    }\n",
              "\n",
              "    .colab-df-convert {\n",
              "      background-color: #E8F0FE;\n",
              "      border: none;\n",
              "      border-radius: 50%;\n",
              "      cursor: pointer;\n",
              "      display: none;\n",
              "      fill: #1967D2;\n",
              "      height: 32px;\n",
              "      padding: 0 0 0 0;\n",
              "      width: 32px;\n",
              "    }\n",
              "\n",
              "    .colab-df-convert:hover {\n",
              "      background-color: #E2EBFA;\n",
              "      box-shadow: 0px 1px 2px rgba(60, 64, 67, 0.3), 0px 1px 3px 1px rgba(60, 64, 67, 0.15);\n",
              "      fill: #174EA6;\n",
              "    }\n",
              "\n",
              "    .colab-df-buttons div {\n",
              "      margin-bottom: 4px;\n",
              "    }\n",
              "\n",
              "    [theme=dark] .colab-df-convert {\n",
              "      background-color: #3B4455;\n",
              "      fill: #D2E3FC;\n",
              "    }\n",
              "\n",
              "    [theme=dark] .colab-df-convert:hover {\n",
              "      background-color: #434B5C;\n",
              "      box-shadow: 0px 1px 3px 1px rgba(0, 0, 0, 0.15);\n",
              "      filter: drop-shadow(0px 1px 2px rgba(0, 0, 0, 0.3));\n",
              "      fill: #FFFFFF;\n",
              "    }\n",
              "  </style>\n",
              "\n",
              "    <script>\n",
              "      const buttonEl =\n",
              "        document.querySelector('#df-ff4610e5-aad9-427a-8934-41372619eef5 button.colab-df-convert');\n",
              "      buttonEl.style.display =\n",
              "        google.colab.kernel.accessAllowed ? 'block' : 'none';\n",
              "\n",
              "      async function convertToInteractive(key) {\n",
              "        const element = document.querySelector('#df-ff4610e5-aad9-427a-8934-41372619eef5');\n",
              "        const dataTable =\n",
              "          await google.colab.kernel.invokeFunction('convertToInteractive',\n",
              "                                                    [key], {});\n",
              "        if (!dataTable) return;\n",
              "\n",
              "        const docLinkHtml = 'Like what you see? Visit the ' +\n",
              "          '<a target=\"_blank\" href=https://colab.research.google.com/notebooks/data_table.ipynb>data table notebook</a>'\n",
              "          + ' to learn more about interactive tables.';\n",
              "        element.innerHTML = '';\n",
              "        dataTable['output_type'] = 'display_data';\n",
              "        await google.colab.output.renderOutput(dataTable, element);\n",
              "        const docLink = document.createElement('div');\n",
              "        docLink.innerHTML = docLinkHtml;\n",
              "        element.appendChild(docLink);\n",
              "      }\n",
              "    </script>\n",
              "  </div>\n",
              "\n",
              "\n",
              "<div id=\"df-53b7e5ae-6fc7-4163-8e82-cc5bb5f1e83c\">\n",
              "  <button class=\"colab-df-quickchart\" onclick=\"quickchart('df-53b7e5ae-6fc7-4163-8e82-cc5bb5f1e83c')\"\n",
              "            title=\"Suggest charts\"\n",
              "            style=\"display:none;\">\n",
              "\n",
              "<svg xmlns=\"http://www.w3.org/2000/svg\" height=\"24px\"viewBox=\"0 0 24 24\"\n",
              "     width=\"24px\">\n",
              "    <g>\n",
              "        <path d=\"M19 3H5c-1.1 0-2 .9-2 2v14c0 1.1.9 2 2 2h14c1.1 0 2-.9 2-2V5c0-1.1-.9-2-2-2zM9 17H7v-7h2v7zm4 0h-2V7h2v10zm4 0h-2v-4h2v4z\"/>\n",
              "    </g>\n",
              "</svg>\n",
              "  </button>\n",
              "\n",
              "<style>\n",
              "  .colab-df-quickchart {\n",
              "      --bg-color: #E8F0FE;\n",
              "      --fill-color: #1967D2;\n",
              "      --hover-bg-color: #E2EBFA;\n",
              "      --hover-fill-color: #174EA6;\n",
              "      --disabled-fill-color: #AAA;\n",
              "      --disabled-bg-color: #DDD;\n",
              "  }\n",
              "\n",
              "  [theme=dark] .colab-df-quickchart {\n",
              "      --bg-color: #3B4455;\n",
              "      --fill-color: #D2E3FC;\n",
              "      --hover-bg-color: #434B5C;\n",
              "      --hover-fill-color: #FFFFFF;\n",
              "      --disabled-bg-color: #3B4455;\n",
              "      --disabled-fill-color: #666;\n",
              "  }\n",
              "\n",
              "  .colab-df-quickchart {\n",
              "    background-color: var(--bg-color);\n",
              "    border: none;\n",
              "    border-radius: 50%;\n",
              "    cursor: pointer;\n",
              "    display: none;\n",
              "    fill: var(--fill-color);\n",
              "    height: 32px;\n",
              "    padding: 0;\n",
              "    width: 32px;\n",
              "  }\n",
              "\n",
              "  .colab-df-quickchart:hover {\n",
              "    background-color: var(--hover-bg-color);\n",
              "    box-shadow: 0 1px 2px rgba(60, 64, 67, 0.3), 0 1px 3px 1px rgba(60, 64, 67, 0.15);\n",
              "    fill: var(--button-hover-fill-color);\n",
              "  }\n",
              "\n",
              "  .colab-df-quickchart-complete:disabled,\n",
              "  .colab-df-quickchart-complete:disabled:hover {\n",
              "    background-color: var(--disabled-bg-color);\n",
              "    fill: var(--disabled-fill-color);\n",
              "    box-shadow: none;\n",
              "  }\n",
              "\n",
              "  .colab-df-spinner {\n",
              "    border: 2px solid var(--fill-color);\n",
              "    border-color: transparent;\n",
              "    border-bottom-color: var(--fill-color);\n",
              "    animation:\n",
              "      spin 1s steps(1) infinite;\n",
              "  }\n",
              "\n",
              "  @keyframes spin {\n",
              "    0% {\n",
              "      border-color: transparent;\n",
              "      border-bottom-color: var(--fill-color);\n",
              "      border-left-color: var(--fill-color);\n",
              "    }\n",
              "    20% {\n",
              "      border-color: transparent;\n",
              "      border-left-color: var(--fill-color);\n",
              "      border-top-color: var(--fill-color);\n",
              "    }\n",
              "    30% {\n",
              "      border-color: transparent;\n",
              "      border-left-color: var(--fill-color);\n",
              "      border-top-color: var(--fill-color);\n",
              "      border-right-color: var(--fill-color);\n",
              "    }\n",
              "    40% {\n",
              "      border-color: transparent;\n",
              "      border-right-color: var(--fill-color);\n",
              "      border-top-color: var(--fill-color);\n",
              "    }\n",
              "    60% {\n",
              "      border-color: transparent;\n",
              "      border-right-color: var(--fill-color);\n",
              "    }\n",
              "    80% {\n",
              "      border-color: transparent;\n",
              "      border-right-color: var(--fill-color);\n",
              "      border-bottom-color: var(--fill-color);\n",
              "    }\n",
              "    90% {\n",
              "      border-color: transparent;\n",
              "      border-bottom-color: var(--fill-color);\n",
              "    }\n",
              "  }\n",
              "</style>\n",
              "\n",
              "  <script>\n",
              "    async function quickchart(key) {\n",
              "      const quickchartButtonEl =\n",
              "        document.querySelector('#' + key + ' button');\n",
              "      quickchartButtonEl.disabled = true;  // To prevent multiple clicks.\n",
              "      quickchartButtonEl.classList.add('colab-df-spinner');\n",
              "      try {\n",
              "        const charts = await google.colab.kernel.invokeFunction(\n",
              "            'suggestCharts', [key], {});\n",
              "      } catch (error) {\n",
              "        console.error('Error during call to suggestCharts:', error);\n",
              "      }\n",
              "      quickchartButtonEl.classList.remove('colab-df-spinner');\n",
              "      quickchartButtonEl.classList.add('colab-df-quickchart-complete');\n",
              "    }\n",
              "    (() => {\n",
              "      let quickchartButtonEl =\n",
              "        document.querySelector('#df-53b7e5ae-6fc7-4163-8e82-cc5bb5f1e83c button');\n",
              "      quickchartButtonEl.style.display =\n",
              "        google.colab.kernel.accessAllowed ? 'block' : 'none';\n",
              "    })();\n",
              "  </script>\n",
              "</div>\n",
              "\n",
              "    </div>\n",
              "  </div>\n"
            ],
            "application/vnd.google.colaboratory.intrinsic+json": {
              "type": "dataframe",
              "variable_name": "df_bioma",
              "summary": "{\n  \"name\": \"df_bioma\",\n  \"rows\": 39,\n  \"fields\": [\n    {\n      \"column\": \"Ano\",\n      \"properties\": {\n        \"dtype\": \"object\",\n        \"num_unique_values\": 39,\n        \"samples\": [\n          \"2018\",\n          \"2021\",\n          \"1989\"\n        ],\n        \"semantic_type\": \"\",\n        \"description\": \"\"\n      }\n    },\n    {\n      \"column\": \"Floresta\",\n      \"properties\": {\n        \"dtype\": \"date\",\n        \"min\": 8655.903214080843,\n        \"max\": 16998.659232092436,\n        \"num_unique_values\": 39,\n        \"samples\": [\n          15927.1921716918,\n          16828.70016110244,\n          9447.668263092122\n        ],\n        \"semantic_type\": \"\",\n        \"description\": \"\"\n      }\n    },\n    {\n      \"column\": \"Agropecu\\u00e1ria\",\n      \"properties\": {\n        \"dtype\": \"date\",\n        \"min\": 20447.33333248891,\n        \"max\": 31992.411089697307,\n        \"num_unique_values\": 39,\n        \"samples\": [\n          21712.992748309167,\n          20664.38451983624,\n          31028.702676721103\n        ],\n        \"semantic_type\": \"\",\n        \"description\": \"\"\n      }\n    },\n    {\n      \"column\": \"Urbanizada\",\n      \"properties\": {\n        \"dtype\": \"date\",\n        \"min\": 4460.436312823671,\n        \"max\": 10931.190470825382,\n        \"num_unique_values\": 39,\n        \"samples\": [\n          10694.934371558073,\n          10858.349985205132,\n          7691.89399331691\n        ],\n        \"semantic_type\": \"\",\n        \"description\": \"\"\n      }\n    }\n  ]\n}"
            }
          },
          "metadata": {},
          "execution_count": 15
        }
      ],
      "source": [
        "#Transpor o DataFrame /invertendo a tabela pro tamanho vertical\n",
        "dado_coluna = dado.T\n",
        "dado_coluna['Ano'] = dado_coluna.index\n",
        "#dado_coluna = dado_coluna.set_index('Índice')\n",
        "dado_coluna.columns = ['Floresta', 'Agropecuária', 'Urbanizada','Ano'] #renomeando os atributos das colunas\n",
        "dado_coluna = dado_coluna.drop(index = 'Classe') #deletando a linha com o índece Classe\n",
        "df_bioma = pd.DataFrame(dado_coluna)\n",
        "new_order = ['Ano','Floresta', 'Agropecuária', 'Urbanizada']\n",
        "df_bioma = df_bioma.reindex(columns=new_order)\n",
        "# Adicionando um índice sequencial\n",
        "#df_bioma['Índice'] = range(1, len(df_bioma) + 1)\n",
        "#df_bioma = df_bioma.set_index('Índice')\n",
        "\n",
        "df_bioma.head()"
      ]
    },
    {
      "cell_type": "code",
      "execution_count": null,
      "id": "fccc8d6c-b71b-4d68-9fe6-a07b0fb42942",
      "metadata": {
        "colab": {
          "base_uri": "https://localhost:8080/",
          "height": 567
        },
        "id": "fccc8d6c-b71b-4d68-9fe6-a07b0fb42942",
        "outputId": "1d767a35-13fd-49bb-98a8-0a8335091a29"
      },
      "outputs": [
        {
          "output_type": "display_data",
          "data": {
            "text/plain": [
              "<Figure size 1000x600 with 1 Axes>"
            ],
            "image/png": "[encoded data removed]"
          },
          "metadata": {}
        }
      ],
      "source": [
        "# Plotando os dados no mesmo gráfico\n",
        "plt.figure(figsize=(10, 6))\n",
        "plt.plot(df_bioma['Ano'], df_bioma['Agropecuária'], label='Agropecuária')\n",
        "plt.plot(df_bioma['Ano'], df_bioma['Urbanizada'], label='Urbanizada')\n",
        "plt.plot(df_bioma['Ano'], df_bioma['Floresta'], label='Floresta')\n",
        "\n",
        "# Personalizando o gráfico\n",
        "plt.xlabel('Ano', )\n",
        "plt.ylabel('Área')\n",
        "plt.title('Evolução da Área Agropecuária e Urbanizada')\n",
        "plt.legend()\n",
        "\n",
        "# Exibindo o gráfico\n",
        "plt.show()"
      ]
    },
    {
      "cell_type": "code",
      "execution_count": null,
      "id": "1d895070-0132-4d8a-8ce3-6c8173609608",
      "metadata": {
        "colab": {
          "base_uri": "https://localhost:8080/"
        },
        "id": "1d895070-0132-4d8a-8ce3-6c8173609608",
        "outputId": "c6f80572-8bd6-497d-f920-57d910066044"
      },
      "outputs": [
        {
          "output_type": "stream",
          "name": "stdout",
          "text": [
            "<class 'pandas.core.frame.DataFrame'>\n",
            "Index: 39 entries, 1985 to 2023\n",
            "Data columns (total 4 columns):\n",
            " #   Column        Non-Null Count  Dtype         \n",
            "---  ------        --------------  -----         \n",
            " 0   Ano           39 non-null     datetime64[ns]\n",
            " 1   Floresta      39 non-null     float64       \n",
            " 2   Agropecuária  39 non-null     float64       \n",
            " 3   Urbanizada    39 non-null     float64       \n",
            "dtypes: datetime64[ns](1), float64(3)\n",
            "memory usage: 2.6+ KB\n"
          ]
        }
      ],
      "source": [
        "# Convertendo a coluna 'Ano' para o formato datetime\n",
        "df_bioma['Ano'] = pd.to_datetime(df_bioma['Ano'])\n",
        "# Convertendo a coluna 'idade' para o tipo inteiro\n",
        "df_bioma['Floresta'] =df_bioma['Floresta'].astype(float)\n",
        "df_bioma['Agropecuária'] =df_bioma['Agropecuária'].astype(float)\n",
        "df_bioma['Urbanizada'] =df_bioma['Urbanizada'].astype(float)\n",
        "df_bioma.info()"
      ]
    },
    {
      "cell_type": "code",
      "execution_count": null,
      "id": "9d22b201-e669-4f43-b8b9-8cbfa196d191",
      "metadata": {
        "colab": {
          "base_uri": "https://localhost:8080/",
          "height": 206
        },
        "id": "9d22b201-e669-4f43-b8b9-8cbfa196d191",
        "outputId": "ea05cab9-fd83-405b-a406-eec8761232c3"
      },
      "outputs": [
        {
          "output_type": "execute_result",
          "data": {
            "text/plain": [
              "          ds            y\n",
              "0 1985-01-01  4460.436313\n",
              "1 1986-01-01  6954.594059\n",
              "2 1987-01-01  7240.749766\n",
              "3 1988-01-01  7441.180951\n",
              "4 1989-01-01  7691.893993"
            ],
            "text/html": [
              "\n",
              "  <div id=\"df-838fc409-0d95-4027-b446-d1dcd6dae69c\" class=\"colab-df-container\">\n",
              "    <div>\n",
              "<style scoped>\n",
              "    .dataframe tbody tr th:only-of-type {\n",
              "        vertical-align: middle;\n",
              "    }\n",
              "\n",
              "    .dataframe tbody tr th {\n",
              "        vertical-align: top;\n",
              "    }\n",
              "\n",
              "    .dataframe thead th {\n",
              "        text-align: right;\n",
              "    }\n",
              "</style>\n",
              "<table border=\"1\" class=\"dataframe\">\n",
              "  <thead>\n",
              "    <tr style=\"text-align: right;\">\n",
              "      <th></th>\n",
              "      <th>ds</th>\n",
              "      <th>y</th>\n",
              "    </tr>\n",
              "  </thead>\n",
              "  <tbody>\n",
              "    <tr>\n",
              "      <th>0</th>\n",
              "      <td>1985-01-01</td>\n",
              "      <td>4460.436313</td>\n",
              "    </tr>\n",
              "    <tr>\n",
              "      <th>1</th>\n",
              "      <td>1986-01-01</td>\n",
              "      <td>6954.594059</td>\n",
              "    </tr>\n",
              "    <tr>\n",
              "      <th>2</th>\n",
              "      <td>1987-01-01</td>\n",
              "      <td>7240.749766</td>\n",
              "    </tr>\n",
              "    <tr>\n",
              "      <th>3</th>\n",
              "      <td>1988-01-01</td>\n",
              "      <td>7441.180951</td>\n",
              "    </tr>\n",
              "    <tr>\n",
              "      <th>4</th>\n",
              "      <td>1989-01-01</td>\n",
              "      <td>7691.893993</td>\n",
              "    </tr>\n",
              "  </tbody>\n",
              "</table>\n",
              "</div>\n",
              "    <div class=\"colab-df-buttons\">\n",
              "\n",
              "  <div class=\"colab-df-container\">\n",
              "    <button class=\"colab-df-convert\" onclick=\"convertToInteractive('df-838fc409-0d95-4027-b446-d1dcd6dae69c')\"\n",
              "            title=\"Convert this dataframe to an interactive table.\"\n",
              "            style=\"display:none;\">\n",
              "\n",
              "  <svg xmlns=\"http://www.w3.org/2000/svg\" height=\"24px\" viewBox=\"0 -960 960 960\">\n",
              "    <path d=\"M120-120v-720h720v720H120Zm60-500h600v-160H180v160Zm220 220h160v-160H400v160Zm0 220h160v-160H400v160ZM180-400h160v-160H180v160Zm440 0h160v-160H620v160ZM180-180h160v-160H180v160Zm440 0h160v-160H620v160Z\"/>\n",
              "  </svg>\n",
              "    </button>\n",
              "\n",
              "  <style>\n",
              "    .colab-df-container {\n",
              "      display:flex;\n",
              "      gap: 12px;\n",
              "    }\n",
              "\n",
              "    .colab-df-convert {\n",
              "      background-color: #E8F0FE;\n",
              "      border: none;\n",
              "      border-radius: 50%;\n",
              "      cursor: pointer;\n",
              "      display: none;\n",
              "      fill: #1967D2;\n",
              "      height: 32px;\n",
              "      padding: 0 0 0 0;\n",
              "      width: 32px;\n",
              "    }\n",
              "\n",
              "    .colab-df-convert:hover {\n",
              "      background-color: #E2EBFA;\n",
              "      box-shadow: 0px 1px 2px rgba(60, 64, 67, 0.3), 0px 1px 3px 1px rgba(60, 64, 67, 0.15);\n",
              "      fill: #174EA6;\n",
              "    }\n",
              "\n",
              "    .colab-df-buttons div {\n",
              "      margin-bottom: 4px;\n",
              "    }\n",
              "\n",
              "    [theme=dark] .colab-df-convert {\n",
              "      background-color: #3B4455;\n",
              "      fill: #D2E3FC;\n",
              "    }\n",
              "\n",
              "    [theme=dark] .colab-df-convert:hover {\n",
              "      background-color: #434B5C;\n",
              "      box-shadow: 0px 1px 3px 1px rgba(0, 0, 0, 0.15);\n",
              "      filter: drop-shadow(0px 1px 2px rgba(0, 0, 0, 0.3));\n",
              "      fill: #FFFFFF;\n",
              "    }\n",
              "  </style>\n",
              "\n",
              "    <script>\n",
              "      const buttonEl =\n",
              "        document.querySelector('#df-838fc409-0d95-4027-b446-d1dcd6dae69c button.colab-df-convert');\n",
              "      buttonEl.style.display =\n",
              "        google.colab.kernel.accessAllowed ? 'block' : 'none';\n",
              "\n",
              "      async function convertToInteractive(key) {\n",
              "        const element = document.querySelector('#df-838fc409-0d95-4027-b446-d1dcd6dae69c');\n",
              "        const dataTable =\n",
              "          await google.colab.kernel.invokeFunction('convertToInteractive',\n",
              "                                                    [key], {});\n",
              "        if (!dataTable) return;\n",
              "\n",
              "        const docLinkHtml = 'Like what you see? Visit the ' +\n",
              "          '<a target=\"_blank\" href=https://colab.research.google.com/notebooks/data_table.ipynb>data table notebook</a>'\n",
              "          + ' to learn more about interactive tables.';\n",
              "        element.innerHTML = '';\n",
              "        dataTable['output_type'] = 'display_data';\n",
              "        await google.colab.output.renderOutput(dataTable, element);\n",
              "        const docLink = document.createElement('div');\n",
              "        docLink.innerHTML = docLinkHtml;\n",
              "        element.appendChild(docLink);\n",
              "      }\n",
              "    </script>\n",
              "  </div>\n",
              "\n",
              "\n",
              "<div id=\"df-46e2a891-c8ef-4924-bd39-b515da5f56bd\">\n",
              "  <button class=\"colab-df-quickchart\" onclick=\"quickchart('df-46e2a891-c8ef-4924-bd39-b515da5f56bd')\"\n",
              "            title=\"Suggest charts\"\n",
              "            style=\"display:none;\">\n",
              "\n",
              "<svg xmlns=\"http://www.w3.org/2000/svg\" height=\"24px\"viewBox=\"0 0 24 24\"\n",
              "     width=\"24px\">\n",
              "    <g>\n",
              "        <path d=\"M19 3H5c-1.1 0-2 .9-2 2v14c0 1.1.9 2 2 2h14c1.1 0 2-.9 2-2V5c0-1.1-.9-2-2-2zM9 17H7v-7h2v7zm4 0h-2V7h2v10zm4 0h-2v-4h2v4z\"/>\n",
              "    </g>\n",
              "</svg>\n",
              "  </button>\n",
              "\n",
              "<style>\n",
              "  .colab-df-quickchart {\n",
              "      --bg-color: #E8F0FE;\n",
              "      --fill-color: #1967D2;\n",
              "      --hover-bg-color: #E2EBFA;\n",
              "      --hover-fill-color: #174EA6;\n",
              "      --disabled-fill-color: #AAA;\n",
              "      --disabled-bg-color: #DDD;\n",
              "  }\n",
              "\n",
              "  [theme=dark] .colab-df-quickchart {\n",
              "      --bg-color: #3B4455;\n",
              "      --fill-color: #D2E3FC;\n",
              "      --hover-bg-color: #434B5C;\n",
              "      --hover-fill-color: #FFFFFF;\n",
              "      --disabled-bg-color: #3B4455;\n",
              "      --disabled-fill-color: #666;\n",
              "  }\n",
              "\n",
              "  .colab-df-quickchart {\n",
              "    background-color: var(--bg-color);\n",
              "    border: none;\n",
              "    border-radius: 50%;\n",
              "    cursor: pointer;\n",
              "    display: none;\n",
              "    fill: var(--fill-color);\n",
              "    height: 32px;\n",
              "    padding: 0;\n",
              "    width: 32px;\n",
              "  }\n",
              "\n",
              "  .colab-df-quickchart:hover {\n",
              "    background-color: var(--hover-bg-color);\n",
              "    box-shadow: 0 1px 2px rgba(60, 64, 67, 0.3), 0 1px 3px 1px rgba(60, 64, 67, 0.15);\n",
              "    fill: var(--button-hover-fill-color);\n",
              "  }\n",
              "\n",
              "  .colab-df-quickchart-complete:disabled,\n",
              "  .colab-df-quickchart-complete:disabled:hover {\n",
              "    background-color: var(--disabled-bg-color);\n",
              "    fill: var(--disabled-fill-color);\n",
              "    box-shadow: none;\n",
              "  }\n",
              "\n",
              "  .colab-df-spinner {\n",
              "    border: 2px solid var(--fill-color);\n",
              "    border-color: transparent;\n",
              "    border-bottom-color: var(--fill-color);\n",
              "    animation:\n",
              "      spin 1s steps(1) infinite;\n",
              "  }\n",
              "\n",
              "  @keyframes spin {\n",
              "    0% {\n",
              "      border-color: transparent;\n",
              "      border-bottom-color: var(--fill-color);\n",
              "      border-left-color: var(--fill-color);\n",
              "    }\n",
              "    20% {\n",
              "      border-color: transparent;\n",
              "      border-left-color: var(--fill-color);\n",
              "      border-top-color: var(--fill-color);\n",
              "    }\n",
              "    30% {\n",
              "      border-color: transparent;\n",
              "      border-left-color: var(--fill-color);\n",
              "      border-top-color: var(--fill-color);\n",
              "      border-right-color: var(--fill-color);\n",
              "    }\n",
              "    40% {\n",
              "      border-color: transparent;\n",
              "      border-right-color: var(--fill-color);\n",
              "      border-top-color: var(--fill-color);\n",
              "    }\n",
              "    60% {\n",
              "      border-color: transparent;\n",
              "      border-right-color: var(--fill-color);\n",
              "    }\n",
              "    80% {\n",
              "      border-color: transparent;\n",
              "      border-right-color: var(--fill-color);\n",
              "      border-bottom-color: var(--fill-color);\n",
              "    }\n",
              "    90% {\n",
              "      border-color: transparent;\n",
              "      border-bottom-color: var(--fill-color);\n",
              "    }\n",
              "  }\n",
              "</style>\n",
              "\n",
              "  <script>\n",
              "    async function quickchart(key) {\n",
              "      const quickchartButtonEl =\n",
              "        document.querySelector('#' + key + ' button');\n",
              "      quickchartButtonEl.disabled = true;  // To prevent multiple clicks.\n",
              "      quickchartButtonEl.classList.add('colab-df-spinner');\n",
              "      try {\n",
              "        const charts = await google.colab.kernel.invokeFunction(\n",
              "            'suggestCharts', [key], {});\n",
              "      } catch (error) {\n",
              "        console.error('Error during call to suggestCharts:', error);\n",
              "      }\n",
              "      quickchartButtonEl.classList.remove('colab-df-spinner');\n",
              "      quickchartButtonEl.classList.add('colab-df-quickchart-complete');\n",
              "    }\n",
              "    (() => {\n",
              "      let quickchartButtonEl =\n",
              "        document.querySelector('#df-46e2a891-c8ef-4924-bd39-b515da5f56bd button');\n",
              "      quickchartButtonEl.style.display =\n",
              "        google.colab.kernel.accessAllowed ? 'block' : 'none';\n",
              "    })();\n",
              "  </script>\n",
              "</div>\n",
              "\n",
              "    </div>\n",
              "  </div>\n"
            ],
            "application/vnd.google.colaboratory.intrinsic+json": {
              "type": "dataframe",
              "variable_name": "dfurb",
              "summary": "{\n  \"name\": \"dfurb\",\n  \"rows\": 39,\n  \"fields\": [\n    {\n      \"column\": \"ds\",\n      \"properties\": {\n        \"dtype\": \"date\",\n        \"min\": \"1985-01-01 00:00:00\",\n        \"max\": \"2023-01-01 00:00:00\",\n        \"num_unique_values\": 39,\n        \"samples\": [\n          \"2018-01-01 00:00:00\",\n          \"2021-01-01 00:00:00\",\n          \"1989-01-01 00:00:00\"\n        ],\n        \"semantic_type\": \"\",\n        \"description\": \"\"\n      }\n    },\n    {\n      \"column\": \"y\",\n      \"properties\": {\n        \"dtype\": \"number\",\n        \"std\": 1381.8243133361875,\n        \"min\": 4460.436312823671,\n        \"max\": 10931.190470825382,\n        \"num_unique_values\": 39,\n        \"samples\": [\n          10694.934371558073,\n          10858.349985205132,\n          7691.89399331691\n        ],\n        \"semantic_type\": \"\",\n        \"description\": \"\"\n      }\n    }\n  ]\n}"
            }
          },
          "metadata": {},
          "execution_count": 19
        }
      ],
      "source": [
        "dfurb = df_bioma.drop(['Floresta','Agropecuária'], axis=1)\n",
        "dfurb = dfurb.rename(columns={'Ano':'ds', 'Urbanizada':'y'}) #ajustei os nomes das colundas\n",
        "\n",
        "dfurb.reset_index(inplace=True)#criei um novo index iniciando de 0\n",
        "dfurb = dfurb.drop(['index'], axis=1)#deletei uma coluna com o nome index que surgiu\n",
        "dfurb.head()"
      ]
    },
    {
      "cell_type": "code",
      "execution_count": null,
      "id": "488a40f8-b215-4371-ae9e-fbfff4aa5f97",
      "metadata": {
        "id": "488a40f8-b215-4371-ae9e-fbfff4aa5f97"
      },
      "outputs": [],
      "source": [
        "train_set = dfurb.iloc[:-10]\n",
        "test_set = dfurb.iloc[-10:]"
      ]
    },
    {
      "cell_type": "code",
      "execution_count": null,
      "id": "a5fe8078-6a65-403d-adb4-a54a3849e618",
      "metadata": {
        "id": "a5fe8078-6a65-403d-adb4-a54a3849e618"
      },
      "outputs": [],
      "source": [
        "model_anual = Prophet()"
      ]
    },
    {
      "cell_type": "code",
      "execution_count": null,
      "id": "178e4d9c-7f80-45cb-a3c8-f30d347ed1fc",
      "metadata": {
        "colab": {
          "base_uri": "https://localhost:8080/"
        },
        "id": "178e4d9c-7f80-45cb-a3c8-f30d347ed1fc",
        "outputId": "3b025a8e-d526-45a5-9c52-ecc4558acb61"
      },
      "outputs": [
        {
          "output_type": "stream",
          "name": "stderr",
          "text": [
            "INFO:prophet:Disabling weekly seasonality. Run prophet with weekly_seasonality=True to override this.\n",
            "INFO:prophet:Disabling daily seasonality. Run prophet with daily_seasonality=True to override this.\n",
            "INFO:prophet:n_changepoints greater than number of observations. Using 22.\n",
            "DEBUG:cmdstanpy:input tempfile: /tmp/tmpkrkctqir/s26iqx9y.json\n",
            "DEBUG:cmdstanpy:input tempfile: /tmp/tmpkrkctqir/cyj0so61.json\n",
            "DEBUG:cmdstanpy:idx 0\n",
            "DEBUG:cmdstanpy:running CmdStan, num_threads: None\n",
            "DEBUG:cmdstanpy:CmdStan args: ['/usr/local/lib/python3.11/dist-packages/prophet/stan_model/prophet_model.bin', 'random', 'seed=51304', 'data', 'file=/tmp/tmpkrkctqir/s26iqx9y.json', 'init=/tmp/tmpkrkctqir/cyj0so61.json', 'output', 'file=/tmp/tmpkrkctqir/prophet_model75mcifwv/prophet_model-20250117154726.csv', 'method=optimize', 'algorithm=newton', 'iter=10000']\n",
            "15:47:26 - cmdstanpy - INFO - Chain [1] start processing\n",
            "INFO:cmdstanpy:Chain [1] start processing\n",
            "15:47:26 - cmdstanpy - INFO - Chain [1] done processing\n",
            "INFO:cmdstanpy:Chain [1] done processing\n"
          ]
        },
        {
          "output_type": "execute_result",
          "data": {
            "text/plain": [
              "<prophet.forecaster.Prophet at 0x7c95afa0c310>"
            ]
          },
          "metadata": {},
          "execution_count": 22
        }
      ],
      "source": [
        "model_anual.fit(train_set)"
      ]
    },
    {
      "cell_type": "code",
      "source": [
        "y_pred = model_anual.predict(test_set)"
      ],
      "metadata": {
        "id": "YNeCL0iD8qUN"
      },
      "id": "YNeCL0iD8qUN",
      "execution_count": null,
      "outputs": []
    },
    {
      "cell_type": "code",
      "source": [
        "from google.colab import drive\n",
        "drive.mount('/content/drive')"
      ],
      "metadata": {
        "id": "hHVCcFpHXJQw"
      },
      "id": "hHVCcFpHXJQw",
      "execution_count": null,
      "outputs": []
    },
    {
      "cell_type": "code",
      "source": [
        "model_anual.plot(y_pred);#o ; deixa retornar apenas um gráfico"
      ],
      "metadata": {
        "colab": {
          "base_uri": "https://localhost:8080/",
          "height": 543
        },
        "id": "9PYJluwx8qM0",
        "outputId": "8de860f3-ef89-4f38-af72-34d49c8c853d"
      },
      "id": "9PYJluwx8qM0",
      "execution_count": null,
      "outputs": [
        {
          "output_type": "display_data",
          "data": {
            "text/plain": [
              "<Figure size 1000x600 with 1 Axes>"
            ],
            "image/png": "[encoded data removed]"
          },
          "metadata": {}
        }
      ]
    },
    {
      "cell_type": "markdown",
      "source": [
        "# Nova secção"
      ],
      "metadata": {
        "id": "BxTkn080QsQ7"
      },
      "id": "BxTkn080QsQ7"
    },
    {
      "cell_type": "code",
      "source": [
        "y_pred.set_index('ds')['yhat'].plot(color='red')\n",
        "test_set.set_index('ds')['y'].plot(color='blue')"
      ],
      "metadata": {
        "colab": {
          "base_uri": "https://localhost:8080/",
          "height": 466
        },
        "id": "Y8e7Ic1m8ptt",
        "outputId": "93eee131-1087-41ed-b019-d0c2d2813fbb"
      },
      "id": "Y8e7Ic1m8ptt",
      "execution_count": null,
      "outputs": [
        {
          "output_type": "execute_result",
          "data": {
            "text/plain": [
              "<Axes: xlabel='ds'>"
            ]
          },
          "metadata": {},
          "execution_count": 26
        },
        {
          "output_type": "display_data",
          "data": {
            "text/plain": [
              "<Figure size 640x480 with 1 Axes>"
            ],
            "image/png": "[encoded data removed]"
          },
          "metadata": {}
        }
      ]
    },
    {
      "cell_type": "code",
      "source": [
        "print('MAE:{}'.format(metrics.mean_absolute_error(test_set['y'].values, y_pred['yhat'].values)))\n",
        "print('RMSE:{}'.format( metrics.mean_squared_error(test_set['y'].values, y_pred['yhat'].values)))"
      ],
      "metadata": {
        "colab": {
          "base_uri": "https://localhost:8080/"
        },
        "id": "f8h_dEeYJ1fp",
        "outputId": "19faf8bd-f092-4e75-e27a-ae9b06f4669b"
      },
      "id": "f8h_dEeYJ1fp",
      "execution_count": null,
      "outputs": [
        {
          "output_type": "stream",
          "name": "stdout",
          "text": [
            "MAE:468.7101944134853\n",
            "RMSE:266221.75114565715\n"
          ]
        }
      ]
    },
    {
      "cell_type": "code",
      "execution_count": null,
      "id": "fea1e80c-685b-41b7-ae36-ce2008ef3c42",
      "metadata": {
        "id": "fea1e80c-685b-41b7-ae36-ce2008ef3c42"
      },
      "outputs": [],
      "source": [
        "X = df_bioma['Floresta']\n",
        "y = df_bioma['Agropecuária']"
      ]
    },
    {
      "cell_type": "code",
      "execution_count": null,
      "id": "7056095c-ff6d-4840-a929-eedf08bbd1d6",
      "metadata": {
        "id": "7056095c-ff6d-4840-a929-eedf08bbd1d6",
        "outputId": "b6bbfe61-efd6-4e04-b913-18f72e9c1eea"
      },
      "outputs": [
        {
          "name": "stdout",
          "output_type": "stream",
          "text": [
            "\n",
            "Base de treinamento (X_train.shape):\n",
            "(29,)\n",
            "\n",
            "\n",
            "Base de teste (X_test.shape):\n",
            "(10,)\n",
            "\n"
          ]
        }
      ],
      "source": [
        "X_train, X_test, y_train, y_test = train_test_split(df_bioma['Floresta'], df_bioma['Agropecuária'], random_state=0)\n",
        "print(\"\\nBase de treinamento ({0}):\\n{1}\\n\".format(\"X_train.shape\", X_train.shape))\n",
        "print(\"\\nBase de teste ({0}):\\n{1}\\n\".format(\"X_test.shape\", X_test.shape))"
      ]
    },
    {
      "cell_type": "code",
      "execution_count": null,
      "id": "1775b103-9a24-47f5-88f4-aefc460d87a2",
      "metadata": {
        "id": "1775b103-9a24-47f5-88f4-aefc460d87a2"
      },
      "outputs": [],
      "source": []
    }
  ],
  "metadata": {
    "kernelspec": {
      "display_name": "Python 3 (ipykernel)",
      "language": "python",
      "name": "python3"
    },
    "language_info": {
      "codemirror_mode": {
        "name": "ipython",
        "version": 3
      },
      "file_extension": ".py",
      "mimetype": "text/x-python",
      "name": "python",
      "nbconvert_exporter": "python",
      "pygments_lexer": "ipython3",
      "version": "3.11.11"
    },
    "colab": {
      "provenance": [],
      "history_visible": true,
      "include_colab_link": true
    }
  },
  "nbformat": 4,
  "nbformat_minor": 5
}